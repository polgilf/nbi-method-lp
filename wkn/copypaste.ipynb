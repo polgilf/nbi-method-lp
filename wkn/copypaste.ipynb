{
 "cells": [
  {
   "cell_type": "code",
   "execution_count": null,
   "metadata": {
    "vscode": {
     "languageId": "plaintext"
    }
   },
   "outputs": [],
   "source": [
    "        \"\"\" \n",
    "        # If t = 0 (i.e., the reference point is on the Pareto front), set the objective values to the reference point (to avoid multiple-solution problem)\n",
    "        tvalue = copy(t.varValue)\n",
    "        if t.varValue == 0.0:\n",
    "            variable_values_dict = {}\n",
    "            for objective in nbi_solution.objective_names:\n",
    "                variable_values_dict[objective] = float(ref_point[nbi_solution.objective_names.index(objective)])\n",
    "            nbi_solution.replace_solution_giving_objective_dict(variable_values_dict)\n",
    "        # Remove variable t form nbi_solution\n",
    "        nbi_solution.decision_dict.pop('t', None)\n",
    "        nbi_solution.decision_values = np.array([value for value in nbi_solution.decision_values if value != tvalue])\n",
    "        \"\"\"\n",
    "\n",
    "        \"\"\"\n",
    "        print('** New iteration **')\n",
    "        print('t value: ', tvalue)\n",
    "        print('insolver reference point: ', ref_point)\n",
    "        print('insolver normal vector: ', normal_vector)\n",
    "        print('insolver objective values: ', nbi_solution.objective_values)\n",
    "        print('insolver decision values: ', nbi_solution.decision_values)\n",
    "        \"\"\"\n",
    "\n",
    "         \"\"\"\n",
    "        print('** New iteration **')    \n",
    "        print('results of subproblem:', {v.name: v.varValue for v in nbi_subproblem.variables() if v.name in self.objective_names()})\n",
    "        print('insolver reference point: ', ref_id, ' ', self.ref_points_dict[ref_id])\n",
    "        print('insolver objective values: ', nbi_solution.objective_values())\n",
    "        print('insolver decision values: ', nbi_solution.variable_values())\n",
    "        \"\"\"\n",
    "        if ref_id == 'q2':\n",
    "            print('insolver reference point: ', ref_id, ' ', self.ref_points_dict[ref_id])\n",
    "            #print('results of subproblem:', {v.name: v.varValue for v in nbi_subproblem.variables() if v.name in self.objective_names()})\n",
    "            print('results of subproblem:', {v.name: v.varValue for v in nbi_subproblem.variables()})\n",
    "            print('insolver subproblem: ', nbi_subproblem)\n",
    "\n",
    "        for ref_id in NBI_method.ref_points_id():\n",
    "    print('********************')\n",
    "    print(f\"Reference point {ref_id}:\")\n",
    "    solution = NBI_method.solutions_dict[ref_id]\n",
    "    print('Reference point: ', NBI_method.ref_points_dict[ref_id])\n",
    "    print('Solution obj values: ', solution.objective_values())\n",
    "    print('Solution variable values:' , solution.variable_values())\n",
    "    print('Problem: ', solution.print())\n",
    "    break\n",
    "    print(\"*\")"
   ]
  }
 ],
 "metadata": {
  "language_info": {
   "name": "python"
  }
 },
 "nbformat": 4,
 "nbformat_minor": 2
}
