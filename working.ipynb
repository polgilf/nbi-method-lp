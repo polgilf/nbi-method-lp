{
 "cells": [
  {
   "cell_type": "code",
   "execution_count": 17,
   "metadata": {},
   "outputs": [
    {
     "name": "stdout",
     "output_type": "stream",
     "text": [
      "Normal vector: [ 984 1248  936]\n",
      "Unit normal vector: [0.53350333 0.67663837 0.50747878]\n"
     ]
    }
   ],
   "source": [
    "import numpy as np\n",
    "\n",
    "def normal_vector(p1, p2, p3):\n",
    "    v1 = p2 - p1\n",
    "    v2 = p3 - p1\n",
    "    return np.cross(v1, v2)\n",
    "\n",
    "# Example usage\n",
    "A = np.array([10, 40, 50])\n",
    "B = np.array([36, 12, 60])\n",
    "C = np.array([36, 48, 12])\n",
    "\n",
    "normal = normal_vector(A, B, C)\n",
    "print(\"Normal vector:\", normal)\n",
    "\n",
    "#[-0.53350333 -0.67663837 -0.50747878]\n",
    "\n",
    "# Normalized version (unit vector)\n",
    "unit_normal = normal / np.linalg.norm(normal)\n",
    "print(\"Unit normal vector:\", unit_normal)"
   ]
  }
 ],
 "metadata": {
  "kernelspec": {
   "display_name": "Python 3",
   "language": "python",
   "name": "python3"
  },
  "language_info": {
   "codemirror_mode": {
    "name": "ipython",
    "version": 3
   },
   "file_extension": ".py",
   "mimetype": "text/x-python",
   "name": "python",
   "nbconvert_exporter": "python",
   "pygments_lexer": "ipython3",
   "version": "3.12.6"
  }
 },
 "nbformat": 4,
 "nbformat_minor": 2
}
